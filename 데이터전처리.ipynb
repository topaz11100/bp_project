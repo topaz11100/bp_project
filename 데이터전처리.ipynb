{
 "cells": [
  {
   "cell_type": "code",
   "execution_count": 18,
   "metadata": {},
   "outputs": [],
   "source": [
    "import numpy as np\n",
    "import pandas as pd\n",
    "from pathlib import Path"
   ]
  },
  {
   "cell_type": "code",
   "execution_count": 19,
   "metadata": {},
   "outputs": [],
   "source": [
    "#상수 모음\n",
    "\n",
    "encoding  = 'cp949'\n",
    "\n",
    "def make_path(name, mode):\n",
    "    if mode not in ['원본', '전처리필요', '분석용']:\n",
    "        raise Exception('모드 잘못 입력')\n",
    "    return mode + '데이터/' + name + '.csv'\n",
    "\n",
    "use_p = ['당현', '월계', '화랑', '노원역', '상계1', '마들']\n",
    "\n",
    "X_DIFF_M = 0.00001125\n",
    "Y_DIFF_M = 0.00000898\n",
    "POLICE_RAD_M = 900\n",
    "GRID_DIFF_M  = 90\n",
    "\n",
    "SAMPLE = 5"
   ]
  },
  {
   "cell_type": "code",
   "execution_count": 20,
   "metadata": {},
   "outputs": [],
   "source": [
    "def police_location_csv():\n",
    "    p_loc = pd.read_csv(make_path('경찰서정보', '원본'), encoding=encoding)\n",
    "    p_loc = p_loc.drop(['연번', '경찰서', '구분', '전화번호'], axis=1)\n",
    "    p_loc = p_loc.loc[p_loc['관서명'].isin(use_p), :]\n",
    "    p_loc.to_csv(make_path('경찰서정보', '전처리필요'), index=False)\n",
    "\n",
    "police_location_csv()"
   ]
  },
  {
   "cell_type": "code",
   "execution_count": 21,
   "metadata": {},
   "outputs": [],
   "source": [
    "def make_grid(p_x, p_y):\n",
    "    # 정사각 격자점 생성\n",
    "    x = np.linspace(p_x - X_DIFF_M*POLICE_RAD_M, p_x + X_DIFF_M*POLICE_RAD_M, 2*POLICE_RAD_M//GRID_DIFF_M + 1)\n",
    "    y = np.linspace(p_y - Y_DIFF_M*POLICE_RAD_M, p_y + Y_DIFF_M*POLICE_RAD_M, 2*POLICE_RAD_M//GRID_DIFF_M + 1)\n",
    "    X, Y = np.meshgrid(x, y)\n",
    "    grid = np.stack([X, Y], axis = 2).reshape(-1, 2)\n",
    "\n",
    "    # 원형 필터링\n",
    "    dist = (grid - [p_x, p_y]) / [X_DIFF_M, Y_DIFF_M] # grid에는 경,위도가 담겼으므로 원점으로 옮기고 미터로 환산\n",
    "    dist = np.linalg.norm(dist, axis = 1)\n",
    "    grid = grid[dist <= POLICE_RAD_M]\n",
    "    \n",
    "    #데이터프레임화\n",
    "    grid = pd.DataFrame(grid, columns=['경도', '위도'])\n",
    "    return grid\n",
    "\n",
    "def make_grid_csv():\n",
    "    p_loc = pd.read_csv(make_path('경찰서정보', '분석용'))\n",
    "    for i in p_loc.index:\n",
    "        grid = make_grid(p_loc.loc[i, '경도'], p_loc.loc[i, '위도'])\n",
    "        grid.to_csv(make_path('격자점/'+p_loc.loc[i, '이름'], '분석용'), index=False)\n",
    "\n",
    "make_grid_csv()"
   ]
  },
  {
   "cell_type": "code",
   "execution_count": 22,
   "metadata": {},
   "outputs": [],
   "source": [
    "def sample_square(df, size):\n",
    "    #정사각범위 샘플링 -> 영역 내 겹치지 않고 빈 공간 없게 뽑기 위함\n",
    "    sample = np.random.uniform(-GRID_DIFF_M/2, GRID_DIFF_M/2, size=size)\n",
    "    sample *= np.array([X_DIFF_M, Y_DIFF_M])\n",
    "    return df + sample\n",
    "\n",
    "def sample_circle(df, size):\n",
    "    #원형 샘플링 -> 빈 공간 있지만 격자점 영역 구분 확실히 함\n",
    "    # (x, y) -> (x + rcos(a), y + rsin(a)) 이용\n",
    "    sample = GRID_DIFF_M/2 * np.sqrt(np.random.uniform(0, 1, size=size[0]))\n",
    "    angle = np.random.uniform(0, 2*np.pi, size=size[0])\n",
    "    dx, dy = np.cos(angle), np.sin(angle)\n",
    "    return df + np.stack([sample*dx*X_DIFF_M, sample*dy*Y_DIFF_M], axis = 1)\n",
    "    \n",
    "def sample_point(file):\n",
    "    base = pd.read_csv(file)\n",
    "    grid = [base]\n",
    "    size = (len(base), 2)\n",
    "\n",
    "    # SAMPLE번 뽑아 임시 저장\n",
    "    for _ in range(SAMPLE):\n",
    "        grid.append(sample_circle(base, size))\n",
    "\n",
    "    # 결합 후 저장\n",
    "    grid = pd.concat(grid, ignore_index=False)\n",
    "    grid.to_csv(make_path('샘플링/'+file.name, '전처리필요'), index=False)\n",
    "\n",
    "def make_sampled_csv():\n",
    "    grid = Path('분석용데이터/격자점/')\n",
    "    for i in grid.iterdir():\n",
    "        sample_point(i)\n",
    "\n",
    "make_sampled_csv()"
   ]
  },
  {
   "cell_type": "code",
   "execution_count": 26,
   "metadata": {},
   "outputs": [],
   "source": [
    "import folium\n",
    "\n",
    "df = pd.read_csv(make_path('격자점/당현', '분석용'))\n",
    "df2 = pd.read_csv(make_path('샘플링/당현', '전처리필요'))\n",
    "\n",
    "# 지도 중심을 서울(첫 번째 위치)로 설정\n",
    "m = folium.Map(location=[df['위도'].mean(), df['경도'].mean()], zoom_start=15)\n",
    "\n",
    "# 데이터프레임의 각 위치에 마커 추가\n",
    "for idx, row in df.iterrows():\n",
    "    folium.Circle(\n",
    "        location=[row['위도'], row['경도']],\n",
    "        radius = 10,\n",
    "        color = '#FF0000'\n",
    "    ).add_to(m)\n",
    "for idx, row in df2.iterrows():\n",
    "    folium.Circle(\n",
    "        location=[row['위도'], row['경도']],\n",
    "        radius = 5,\n",
    "        color = '#0000FF'\n",
    "    ).add_to(m)\n",
    "\n",
    "# 지도 출력\n",
    "#m\n"
   ]
  },
  {
   "cell_type": "code",
   "execution_count": null,
   "metadata": {},
   "outputs": [],
   "source": []
  },
  {
   "cell_type": "code",
   "execution_count": null,
   "metadata": {},
   "outputs": [],
   "source": []
  },
  {
   "cell_type": "code",
   "execution_count": null,
   "metadata": {},
   "outputs": [],
   "source": []
  },
  {
   "cell_type": "code",
   "execution_count": null,
   "metadata": {},
   "outputs": [],
   "source": []
  },
  {
   "cell_type": "code",
   "execution_count": null,
   "metadata": {},
   "outputs": [],
   "source": []
  },
  {
   "cell_type": "code",
   "execution_count": null,
   "metadata": {},
   "outputs": [],
   "source": []
  },
  {
   "cell_type": "code",
   "execution_count": null,
   "metadata": {},
   "outputs": [],
   "source": []
  },
  {
   "cell_type": "code",
   "execution_count": null,
   "metadata": {},
   "outputs": [],
   "source": []
  },
  {
   "cell_type": "code",
   "execution_count": null,
   "metadata": {},
   "outputs": [],
   "source": []
  }
 ],
 "metadata": {
  "kernelspec": {
   "display_name": "test",
   "language": "python",
   "name": "python3"
  },
  "language_info": {
   "codemirror_mode": {
    "name": "ipython",
    "version": 3
   },
   "file_extension": ".py",
   "mimetype": "text/x-python",
   "name": "python",
   "nbconvert_exporter": "python",
   "pygments_lexer": "ipython3",
   "version": "3.13.2"
  }
 },
 "nbformat": 4,
 "nbformat_minor": 2
}
